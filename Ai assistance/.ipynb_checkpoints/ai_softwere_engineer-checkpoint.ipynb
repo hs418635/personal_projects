{
 "cells": [
  {
   "cell_type": "code",
   "execution_count": 12,
   "id": "d0ed6ab9-908a-48e4-bad0-4e730e1d34cf",
   "metadata": {},
   "outputs": [],
   "source": [
    "import pyttsx3 # a text-to-speech conversion library in Python. \n",
    "import speech_recognition as sr # recognizes speech into text\n",
    "import datetime \n",
    "import wikipedia\n",
    "import webbrowser\n",
    "import os\n",
    "import smtplib"
   ]
  },
  {
   "cell_type": "code",
   "execution_count": 16,
   "id": "ed73ae3d-dc82-4ade-bc4a-aba081d46ebf",
   "metadata": {},
   "outputs": [],
   "source": [
    "engine = pyttsx3.init('sapi5') # sapi5 is a Microsoft Speech API\n",
    "voices = engine.getProperty('voices')\n",
    "\n",
    "engine.setProperty('voice', voices[0].id)"
   ]
  },
  {
   "cell_type": "code",
   "execution_count": 19,
   "id": "3fea53b9-50d9-4ddb-aea3-5f5a5374708d",
   "metadata": {},
   "outputs": [],
   "source": [
    "def speak(audio):\n",
    "    engine.say(audio)\n",
    "    engine.runAndWait()\n",
    "\n",
    "def wishMe():\n",
    "    hour = int(datetime.datetime.now().hour)\n",
    "    if hour>=0 and hour<=12:\n",
    "        print(\"Good Morning!\")\n",
    "    elif hour>12 and hour<18:\n",
    "        speak(\"Good Afternoon!\")\n",
    "    else:\n",
    "        speak(\"Good Evening!\")\n",
    "    speak(\"Himanshu sir. I am your personal assistant sir . Please tell me hou may i help you\")"
   ]
  },
  {
   "cell_type": "code",
   "execution_count": 20,
   "id": "d7fb590b-1c73-4766-9b86-ce31ca323cdc",
   "metadata": {},
   "outputs": [],
   "source": [
    "def takeCommand():\n",
    "    # It takes mircrophone input from the user and returns string output\n",
    "\n",
    "    r = sr.Recognizer()\n",
    "    with sr.Microphone() as source:\n",
    "        print(\"Listening....\")\n",
    "        #r.pause_threshold = 1\n",
    "        audio = r.record(source, duration = 4 )\n",
    "        print(audio)\n",
    "        # audio = r.listen(source)\n",
    "\n",
    "    try:\n",
    "        print(\"Recognizing...\")\n",
    "        query = r.recognize_google(audio, language='en-in')\n",
    "        print(\"user said: {0}\\n\".format(query))\n",
    "\n",
    "    except Exception:\n",
    "        # print(e)\n",
    "        print(\"Say that again please...\")\n",
    "        return \"None\"\n",
    "    return query"
   ]
  },
  {
   "cell_type": "code",
   "execution_count": 21,
   "id": "7103a59c-9e5e-41fb-a6f1-562f713d16a6",
   "metadata": {},
   "outputs": [],
   "source": [
    "def sendEmail(to, content):\n",
    "    server = smtplib.SMTP(\"smtp.gmail.com\", 587)\n",
    "    server.ehlo()\n",
    "    server.starttls()\n",
    "    server.login(\"hs418635@gmail.com\", \"1***aS*8*\")\n",
    "    server.sendmail('hs864135@gmail.com', to , content)\n",
    "    server.quit()"
   ]
  },
  {
   "cell_type": "code",
   "execution_count": null,
   "id": "40920e31-8993-485a-b979-a9ad4f942ca2",
   "metadata": {},
   "outputs": [],
   "source": [
    "if __name__ == \"__main__\":\n",
    "    wishMe()\n",
    "    sss=input('Press any key to start my Chatbot')\n",
    "    while True:\n",
    "    # if 1:\n",
    "        query = takeCommand().lower()\n",
    "\n",
    "        # Logic for executing tasks based on query\n",
    "\n",
    "        if 'search engine' in query:\n",
    "            speak('Press any key when you are ready to speak')\n",
    "            key=input()\n",
    "            while True:\n",
    "                query=''\n",
    "                query = takeCommand().lower()\n",
    "                if(query=='search engine exit'):\n",
    "                    break\n",
    "                try:\n",
    "                    results = wikipedia.summary(query, sentences=2)\n",
    "                except:\n",
    "                    print('please retry')\n",
    "                speak(\"According to my knowledge\")\n",
    "                print(results)\n",
    "                speak(results)\n",
    "                \n",
    "        elif 'open youtube' in query:\n",
    "            webbrowser.open(\"youtube.com\")\n",
    "\n",
    "        elif 'open google' in query:\n",
    "            webbrowser.open(\"google.com\")\n",
    "\n",
    "\n",
    "        elif 'play music' in query:\n",
    "            music_dir = 'D:\\\\M.TECH DATA SCIENCE\\\\placement\\\\MY_PROJECTS\\\\virtual assistance'\n",
    "            songs = os.listdir(music_dir)\n",
    "            print(songs)    \n",
    "            os.startfile(os.path.join(music_dir, songs[0]))\n",
    "\n",
    "        elif 'the time' in query:\n",
    "            strTime = datetime.datetime.now().strftime(\"%H:%M:%S\")    \n",
    "            speak(\"Sir, the time is {}\".format(strTime))\n",
    "\n",
    "        elif 'open code' in query:\n",
    "            codePath = \"D:\\\\M.TECH DATA SCIENCE\\\\placement\\\\MY_PROJECTS\\\\virtual assistance\"\n",
    "            os.startfile(codePath)\n",
    "\n",
    "        elif 'email to himanshu' in query:\n",
    "            try:\n",
    "                speak(\"What should I say?\")\n",
    "                content = takeCommand()\n",
    "                to = \"hs864135@gmail.com\"    \n",
    "                sendEmail(to, content)\n",
    "                speak(\"Email has been sent!\")\n",
    "            except Exception as e:\n",
    "                print(e)\n",
    "                speak(\"Sorry my friend . I am not able to send this email\")    \n",
    "        elif 'exit' in query:\n",
    "            break"
   ]
  },
  {
   "cell_type": "code",
   "execution_count": null,
   "id": "de2d686d-ac58-48ef-ad61-87c6c38c53ab",
   "metadata": {},
   "outputs": [],
   "source": []
  }
 ],
 "metadata": {
  "kernelspec": {
   "display_name": "Python 3 (ipykernel)",
   "language": "python",
   "name": "python3"
  },
  "language_info": {
   "codemirror_mode": {
    "name": "ipython",
    "version": 3
   },
   "file_extension": ".py",
   "mimetype": "text/x-python",
   "name": "python",
   "nbconvert_exporter": "python",
   "pygments_lexer": "ipython3",
   "version": "3.11.7"
  }
 },
 "nbformat": 4,
 "nbformat_minor": 5
}
